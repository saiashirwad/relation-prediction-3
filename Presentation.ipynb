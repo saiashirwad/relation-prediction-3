{
  "nbformat": 4,
  "nbformat_minor": 0,
  "metadata": {
    "colab": {
      "name": "Presentation.ipynb",
      "provenance": [],
      "authorship_tag": "ABX9TyMTUlo++D/nS8NIVBqouU3H",
      "include_colab_link": true
    },
    "kernelspec": {
      "name": "python3",
      "display_name": "Python 3"
    },
    "accelerator": "GPU"
  },
  "cells": [
    {
      "cell_type": "markdown",
      "metadata": {
        "id": "view-in-github",
        "colab_type": "text"
      },
      "source": [
        "<a href=\"https://colab.research.google.com/github/saiashirwad/relation-prediction-3/blob/master/Presentation.ipynb\" target=\"_parent\"><img src=\"https://colab.research.google.com/assets/colab-badge.svg\" alt=\"Open In Colab\"/></a>"
      ]
    },
    {
      "cell_type": "code",
      "metadata": {
        "id": "19AJkg_H5457",
        "colab_type": "code",
        "outputId": "231db6ab-c92e-4d95-dc6e-4c3e5af985e3",
        "colab": {
          "base_uri": "https://localhost:8080/",
          "height": 52
        }
      },
      "source": [
        "import os\n",
        "if \"relation-prediction-3\" not in os.listdir(\"/content\"):\n",
        "    !git clone https://github.com/saiashirwad/relation-prediction-3\n",
        "%cd /content/relation-prediction-3\n",
        "!git pull"
      ],
      "execution_count": 1,
      "outputs": [
        {
          "output_type": "stream",
          "text": [
            "/content/relation-prediction-3\n",
            "Already up to date.\n"
          ],
          "name": "stdout"
        }
      ]
    },
    {
      "cell_type": "code",
      "metadata": {
        "id": "xmdWmGneAN6G",
        "colab_type": "code",
        "colab": {
          "base_uri": "https://localhost:8080/",
          "height": 295
        },
        "outputId": "b4cf0fd4-38db-40fc-bf84-fc2e93cc460b"
      },
      "source": [
        "!nvidia-smi"
      ],
      "execution_count": 29,
      "outputs": [
        {
          "output_type": "stream",
          "text": [
            "Mon May  4 08:05:48 2020       \n",
            "+-----------------------------------------------------------------------------+\n",
            "| NVIDIA-SMI 440.64.00    Driver Version: 418.67       CUDA Version: 10.1     |\n",
            "|-------------------------------+----------------------+----------------------+\n",
            "| GPU  Name        Persistence-M| Bus-Id        Disp.A | Volatile Uncorr. ECC |\n",
            "| Fan  Temp  Perf  Pwr:Usage/Cap|         Memory-Usage | GPU-Util  Compute M. |\n",
            "|===============================+======================+======================|\n",
            "|   0  Tesla P100-PCIE...  Off  | 00000000:00:04.0 Off |                    0 |\n",
            "| N/A   49C    P0    36W / 250W |  12399MiB / 16280MiB |      0%      Default |\n",
            "+-------------------------------+----------------------+----------------------+\n",
            "                                                                               \n",
            "+-----------------------------------------------------------------------------+\n",
            "| Processes:                                                       GPU Memory |\n",
            "|  GPU       PID   Type   Process name                             Usage      |\n",
            "|=============================================================================|\n",
            "+-----------------------------------------------------------------------------+\n"
          ],
          "name": "stdout"
        }
      ]
    },
    {
      "cell_type": "code",
      "metadata": {
        "id": "XpyEUj2F6cql",
        "colab_type": "code",
        "colab": {}
      },
      "source": [
        "!./colab.sh"
      ],
      "execution_count": 0,
      "outputs": []
    },
    {
      "cell_type": "code",
      "metadata": {
        "id": "X83hStW_8Suh",
        "colab_type": "code",
        "colab": {}
      },
      "source": [
        "from torchkge.data.DataLoader import load_fb15k237"
      ],
      "execution_count": 0,
      "outputs": []
    },
    {
      "cell_type": "code",
      "metadata": {
        "id": "Le1cPhr_EZOE",
        "colab_type": "code",
        "colab": {}
      },
      "source": [
        "from importlib import reload \n",
        "import train\n",
        "import utils \n",
        "import layers\n",
        "import evaluation\n",
        "reload(utils)\n",
        "reload(evaluation)\n",
        "reload (layers)\n",
        "reload(train)\n",
        "from evaluation import *"
      ],
      "execution_count": 0,
      "outputs": []
    },
    {
      "cell_type": "code",
      "metadata": {
        "id": "8EHgc6iICROO",
        "colab_type": "code",
        "colab": {}
      },
      "source": [
        "kg_train, kg_test, kg_val = load_fb15k237()"
      ],
      "execution_count": 0,
      "outputs": []
    },
    {
      "cell_type": "code",
      "metadata": {
        "id": "eAJKLC0lMMhW",
        "colab_type": "code",
        "colab": {}
      },
      "source": [
        "model = None"
      ],
      "execution_count": 0,
      "outputs": []
    },
    {
      "cell_type": "code",
      "metadata": {
        "id": "J_7ziePVCeXE",
        "colab_type": "code",
        "colab": {
          "base_uri": "https://localhost:8080/",
          "height": 1000
        },
        "outputId": "16387896-d730-4b69-b9a7-d2608a337c4b"
      },
      "source": [
        "model = train.train(kg_train, 100, 100, 10, 10000, \"cuda\", n_epochs=100, n_heads=5, model=model)"
      ],
      "execution_count": 14,
      "outputs": [
        {
          "output_type": "stream",
          "text": [
            "epoch: 0, loss: 4.448371836117336\n",
            "epoch: 1, loss: 4.421269774436951\n",
            "epoch: 2, loss: 4.395687648228237\n",
            "epoch: 3, loss: 4.372078367641994\n",
            "epoch: 4, loss: 4.348298038755145\n",
            "epoch: 5, loss: 4.325995343072074\n",
            "epoch: 6, loss: 4.300799931798663\n",
            "epoch: 7, loss: 4.277187602860587\n",
            "epoch: 8, loss: 4.256763901029315\n",
            "epoch: 9, loss: 4.236150009291513\n",
            "epoch: 10, loss: 4.2120344298226495\n",
            "epoch: 11, loss: 4.190395985330854\n",
            "epoch: 12, loss: 4.1716572897774835\n",
            "epoch: 13, loss: 4.1525755780083795\n",
            "epoch: 14, loss: 4.1336356571742465\n",
            "epoch: 15, loss: 4.111973711422512\n",
            "epoch: 16, loss: 4.094600745609829\n",
            "epoch: 17, loss: 4.076355065618243\n",
            "epoch: 18, loss: 4.057930827140808\n",
            "epoch: 19, loss: 4.041096031665802\n",
            "epoch: 20, loss: 4.023453610283988\n",
            "epoch: 21, loss: 4.008702261107309\n",
            "epoch: 22, loss: 3.9903925401823863\n",
            "epoch: 23, loss: 3.9756474835532054\n",
            "epoch: 24, loss: 3.959800030503954\n",
            "epoch: 25, loss: 3.944636489663805\n",
            "epoch: 26, loss: 3.929662449019296\n",
            "epoch: 27, loss: 3.913598418235779\n",
            "epoch: 28, loss: 3.901337887559618\n",
            "epoch: 29, loss: 3.8855547649519786\n",
            "epoch: 30, loss: 3.8688381910324097\n",
            "epoch: 31, loss: 3.854758696896689\n",
            "epoch: 32, loss: 3.8457127809524536\n",
            "epoch: 33, loss: 3.830022726740156\n",
            "epoch: 34, loss: 3.820183660302843\n",
            "epoch: 35, loss: 3.8099059888294766\n",
            "epoch: 36, loss: 3.793731757572719\n",
            "epoch: 37, loss: 3.7842887810298373\n",
            "epoch: 38, loss: 3.7704299773488725\n",
            "epoch: 39, loss: 3.760240231241499\n",
            "epoch: 40, loss: 3.7488334604672024\n",
            "epoch: 41, loss: 3.7367863740239824\n",
            "epoch: 42, loss: 3.7233972379139493\n",
            "epoch: 43, loss: 3.715731510094234\n",
            "epoch: 44, loss: 3.702672685895647\n",
            "epoch: 45, loss: 3.6917912534305026\n",
            "epoch: 46, loss: 3.6827846339770725\n",
            "epoch: 47, loss: 3.673102617263794\n",
            "epoch: 48, loss: 3.660295988832201\n",
            "epoch: 49, loss: 3.650462882859366\n",
            "epoch: 50, loss: 3.6415794832365855\n",
            "epoch: 51, loss: 3.6337482077734813\n",
            "epoch: 52, loss: 3.6225805282592773\n",
            "epoch: 53, loss: 3.613901444843837\n",
            "epoch: 54, loss: 3.602834531239101\n",
            "epoch: 55, loss: 3.593676916190556\n",
            "epoch: 56, loss: 3.5857506734984264\n",
            "epoch: 57, loss: 3.576214509350913\n",
            "epoch: 58, loss: 3.568012603691646\n",
            "epoch: 59, loss: 3.559132022517068\n",
            "epoch: 60, loss: 3.550638590540205\n",
            "epoch: 61, loss: 3.5391170297350203\n",
            "epoch: 62, loss: 3.5316903591156006\n",
            "epoch: 63, loss: 3.5234505193574086\n",
            "epoch: 64, loss: 3.51875045469829\n",
            "epoch: 65, loss: 3.509491894926344\n",
            "epoch: 66, loss: 3.502787249428885\n",
            "epoch: 67, loss: 3.4937554001808167\n",
            "epoch: 68, loss: 3.4862596818378995\n",
            "epoch: 69, loss: 3.476338105542319\n",
            "epoch: 70, loss: 3.468300018991743\n",
            "epoch: 71, loss: 3.4662191782678877\n",
            "epoch: 72, loss: 3.456985516207559\n",
            "epoch: 73, loss: 3.4496846284185136\n",
            "epoch: 74, loss: 3.4410058430262973\n",
            "epoch: 75, loss: 3.4347026688711986\n",
            "epoch: 76, loss: 3.427077966076987\n",
            "epoch: 77, loss: 3.4220221979277476\n",
            "epoch: 78, loss: 3.414877917085375\n",
            "epoch: 79, loss: 3.4098399111202786\n",
            "epoch: 80, loss: 3.400259179728372\n",
            "epoch: 81, loss: 3.3932279688971385\n",
            "epoch: 82, loss: 3.3878810490880693\n",
            "epoch: 83, loss: 3.3801181742123196\n",
            "epoch: 84, loss: 3.3743751559938704\n",
            "epoch: 85, loss: 3.3682093960898265\n",
            "epoch: 86, loss: 3.359717215810503\n",
            "epoch: 87, loss: 3.355303500379835\n",
            "epoch: 88, loss: 3.349810370377132\n",
            "epoch: 89, loss: 3.344250168119158\n",
            "epoch: 90, loss: 3.3376658984592984\n",
            "epoch: 91, loss: 3.3336276156561717\n",
            "epoch: 92, loss: 3.3260068552834645\n",
            "epoch: 93, loss: 3.3190446751458302\n",
            "epoch: 94, loss: 3.314922043255397\n",
            "epoch: 95, loss: 3.31013708455222\n",
            "epoch: 96, loss: 3.3028197629111156\n",
            "epoch: 97, loss: 3.298600128718785\n",
            "epoch: 98, loss: 3.2890365975243703\n",
            "epoch: 99, loss: 3.2834900277001515\n"
          ],
          "name": "stdout"
        }
      ]
    },
    {
      "cell_type": "code",
      "metadata": {
        "id": "u2J98R_TCwoO",
        "colab_type": "code",
        "colab": {
          "base_uri": "https://localhost:8080/",
          "height": 52
        },
        "outputId": "636a65a2-d975-4b89-e33c-63a707c861c2"
      },
      "source": [
        "evaluation.eval(kg_val, model, 100, 100)"
      ],
      "execution_count": 9,
      "outputs": [
        {
          "output_type": "stream",
          "text": [
            "mean rank: 7139.87\n",
            "hits@10: 0.01\n"
          ],
          "name": "stdout"
        }
      ]
    },
    {
      "cell_type": "code",
      "metadata": {
        "id": "8cyrHf-zSFz4",
        "colab_type": "code",
        "colab": {
          "base_uri": "https://localhost:8080/",
          "height": 52
        },
        "outputId": "7b5ca0b9-0e90-4035-8655-64cf3553a119"
      },
      "source": [
        "n_samples = 100\n",
        "dataloader = DataLoader(kg_val, 1, shuffle=True)                                                                                  \n",
        "data = [d for d in dataloader]                                                                                                    \n",
        "                                                                                                                                \n",
        "n = n_samples                                                                                                                     \n",
        "                                                                                                                                \n",
        "n_ent = kg_val.n_ent                                                                                                              \n",
        "model.eval()                                                                                                                      \n",
        "                                                                                                                                \n",
        "head_rank_mean, tail_rank_mean = [0] * 2                                                                                          \n",
        "head_hits_10, tail_hits_10 = [0] * 2                                                                                              \n",
        "\n",
        "ranks = []\n",
        "                                                                                                                                \n",
        "with torch.no_grad():                                                                                                             \n",
        "    for i in range(n_samples):                                                                                                    \n",
        "        triplets_h = generate_eval_triplets(data[i], \"head\", n_ent)                                                               \n",
        "        triplets_h, _ = negative_sampling(triplets_h, n_ent, 0)                                                                   \n",
        "        triplets_h = triplets_h.to(\"cuda\")                                                                                        \n",
        "        ee, re = model(triplets_h)                                                                                                \n",
        "                                                                                                                                \n",
        "        dst = ee[data[i][1]].squeeze()                                                                                            \n",
        "        rel = re[data[i][2]].squeeze()                                                                                            \n",
        "        dist = ee + (rel - dst).repeat(n_ent).view(-1, 100)                                                                       \n",
        "        head_preds = torch.topk(torch.norm(dist, dim=1), k=n_ent).indices.cpu().tolist()                                          \n",
        "        rank = head_preds.index(data[i][0])                                                                                       \n",
        "        head_rank_mean += rank                                                                                                    \n",
        "        if rank < 10:                                                                                                             \n",
        "            head_hits_10 += 1                                                                                                     \n",
        "                                                                                                                                \n",
        "        # # # # tail                                                                                                              \n",
        "        triplets_t = generate_eval_triplets(data[i], \"tail\", n_ent)                                                               \n",
        "        triplets_t, _ = negative_sampling(triplets_t, n_ent, 0)                                                                   \n",
        "        triplets_t = triplets_t.to(\"cuda\")                                                                                        \n",
        "        ee, re = model(triplets_t)                                                                                                \n",
        "                                                                                                                                \n",
        "        src = ee[data[i][0]].squeeze()                                                                                            \n",
        "        rel = re[data[i][2]].squeeze()                                                                                            \n",
        "        dist = (src + rel).repeat(n_ent).view(-1, 100) - ee                                                                       \n",
        "        tail_preds = torch.topk(torch.norm(dist, dim=1), k=n_ent).indices.cpu().tolist()                                          \n",
        "        rank = tail_preds.index(data[i][1])                                                                                       \n",
        "        tail_rank_mean += rank                                                                                                    \n",
        "        if rank < 1000:                                                                                                             \n",
        "            tail_hits_10 += 1                                                                                                     \n",
        "        \n",
        "        ranks.append(rank)\n",
        "                                                                                                                                \n",
        "    # head_rank_mean /= n                                                                                                           \n",
        "    tail_rank_mean /= n                                                                                                           \n",
        "    # head_hits_10 /= n                                                                                                             \n",
        "    tail_hits_10                                                                                                            \n",
        "    # mean_rank = (head_rank_mean + tail_rank_mean) / 2                                                                             \n",
        "    # hits_10 = (head_hits_10 + tail_hits_10) / 2                                                                                   \n",
        "                                                                                                                                \n",
        "#  print(f\"Mean Rank: {mean_rank}\")                                                                                               \n",
        "#  print(f\"Hits@10: {hits0}\")                                                                                                     \n",
        "# print(\"mean rank: {}\".format(mean_rank))                                                                                          \n",
        "# print(\"hits@10: {}\".format(hits_10))  \n",
        "print(tail_rank_mean)\n",
        "print(tail_hits_10)"
      ],
      "execution_count": 21,
      "outputs": [
        {
          "output_type": "stream",
          "text": [
            "5284.31\n",
            "27\n"
          ],
          "name": "stdout"
        }
      ]
    },
    {
      "cell_type": "code",
      "metadata": {
        "id": "Lox5WXBLSru_",
        "colab_type": "code",
        "colab": {
          "base_uri": "https://localhost:8080/",
          "height": 282
        },
        "outputId": "d050d5ba-5dc2-46fe-ef5f-b9e3913489bd"
      },
      "source": [
        "plt.plot(np.arange(100), sorted(ranks))"
      ],
      "execution_count": 28,
      "outputs": [
        {
          "output_type": "execute_result",
          "data": {
            "text/plain": [
              "[<matplotlib.lines.Line2D at 0x7f3f8ad74f28>]"
            ]
          },
          "metadata": {
            "tags": []
          },
          "execution_count": 28
        },
        {
          "output_type": "display_data",
          "data": {
            "image/png": "[encoded data removed]",
            "text/plain": [
              "<Figure size 432x288 with 1 Axes>"
            ]
          },
          "metadata": {
            "tags": [],
            "needs_background": "light"
          }
        }
      ]
    },
    {
      "cell_type": "code",
      "metadata": {
        "id": "ueWsAPXgsrCx",
        "colab_type": "code",
        "colab": {}
      },
      "source": [
        "import numpy as np"
      ],
      "execution_count": 0,
      "outputs": []
    },
    {
      "cell_type": "code",
      "metadata": {
        "id": "I43n-N1Ytmtq",
        "colab_type": "code",
        "colab": {}
      },
      "source": [
        ""
      ],
      "execution_count": 0,
      "outputs": []
    }
  ]
}