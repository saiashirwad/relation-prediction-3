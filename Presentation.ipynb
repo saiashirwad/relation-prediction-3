{
  "nbformat": 4,
  "nbformat_minor": 0,
  "metadata": {
    "colab": {
      "name": "Presentation.ipynb",
      "provenance": [],
      "authorship_tag": "ABX9TyNvAGxAZias/r7p3IdtS54M",
      "include_colab_link": true
    },
    "kernelspec": {
      "name": "python3",
      "display_name": "Python 3"
    },
    "accelerator": "GPU"
  },
  "cells": [
    {
      "cell_type": "markdown",
      "metadata": {
        "id": "view-in-github",
        "colab_type": "text"
      },
      "source": [
        "<a href=\"https://colab.research.google.com/github/saiashirwad/relation-prediction-3/blob/master/Presentation.ipynb\" target=\"_parent\"><img src=\"https://colab.research.google.com/assets/colab-badge.svg\" alt=\"Open In Colab\"/></a>"
      ]
    },
    {
      "cell_type": "code",
      "metadata": {
        "id": "19AJkg_H5457",
        "colab_type": "code",
        "outputId": "231db6ab-c92e-4d95-dc6e-4c3e5af985e3",
        "colab": {
          "base_uri": "https://localhost:8080/",
          "height": 52
        }
      },
      "source": [
        "import os\n",
        "if \"relation-prediction-3\" not in os.listdir(\"/content\"):\n",
        "    !git clone https://github.com/saiashirwad/relation-prediction-3\n",
        "%cd /content/relation-prediction-3\n",
        "!git pull"
      ],
      "execution_count": 1,
      "outputs": [
        {
          "output_type": "stream",
          "text": [
            "/content/relation-prediction-3\n",
            "Already up to date.\n"
          ],
          "name": "stdout"
        }
      ]
    },
    {
      "cell_type": "code",
      "metadata": {
        "id": "xmdWmGneAN6G",
        "colab_type": "code",
        "colab": {
          "base_uri": "https://localhost:8080/",
          "height": 295
        },
        "outputId": "b4cf0fd4-38db-40fc-bf84-fc2e93cc460b"
      },
      "source": [
        "!nvidia-smi"
      ],
      "execution_count": 29,
      "outputs": [
        {
          "output_type": "stream",
          "text": [
            "Mon May  4 08:05:48 2020       \n",
            "+-----------------------------------------------------------------------------+\n",
            "| NVIDIA-SMI 440.64.00    Driver Version: 418.67       CUDA Version: 10.1     |\n",
            "|-------------------------------+----------------------+----------------------+\n",
            "| GPU  Name        Persistence-M| Bus-Id        Disp.A | Volatile Uncorr. ECC |\n",
            "| Fan  Temp  Perf  Pwr:Usage/Cap|         Memory-Usage | GPU-Util  Compute M. |\n",
            "|===============================+======================+======================|\n",
            "|   0  Tesla P100-PCIE...  Off  | 00000000:00:04.0 Off |                    0 |\n",
            "| N/A   49C    P0    36W / 250W |  12399MiB / 16280MiB |      0%      Default |\n",
            "+-------------------------------+----------------------+----------------------+\n",
            "                                                                               \n",
            "+-----------------------------------------------------------------------------+\n",
            "| Processes:                                                       GPU Memory |\n",
            "|  GPU       PID   Type   Process name                             Usage      |\n",
            "|=============================================================================|\n",
            "+-----------------------------------------------------------------------------+\n"
          ],
          "name": "stdout"
        }
      ]
    },
    {
      "cell_type": "code",
      "metadata": {
        "id": "XpyEUj2F6cql",
        "colab_type": "code",
        "colab": {}
      },
      "source": [
        "!./colab.sh"
      ],
      "execution_count": 0,
      "outputs": []
    },
    {
      "cell_type": "code",
      "metadata": {
        "id": "X83hStW_8Suh",
        "colab_type": "code",
        "colab": {}
      },
      "source": [
        "from torchkge.data.DataLoader import load_fb15k237"
      ],
      "execution_count": 0,
      "outputs": []
    },
    {
      "cell_type": "code",
      "metadata": {
        "id": "Le1cPhr_EZOE",
        "colab_type": "code",
        "colab": {}
      },
      "source": [
        "from importlib import reload \n",
        "import train\n",
        "import utils \n",
        "import layers\n",
        "import evaluation\n",
        "reload(utils)\n",
        "reload(evaluation)\n",
        "reload (layers)\n",
        "reload(train)\n",
        "from evaluation import *"
      ],
      "execution_count": 0,
      "outputs": []
    },
    {
      "cell_type": "code",
      "metadata": {
        "id": "8EHgc6iICROO",
        "colab_type": "code",
        "colab": {}
      },
      "source": [
        "kg_train, kg_test, kg_val = load_fb15k237()"
      ],
      "execution_count": 0,
      "outputs": []
    },
    {
      "cell_type": "code",
      "metadata": {
        "id": "eAJKLC0lMMhW",
        "colab_type": "code",
        "colab": {}
      },
      "source": [
        "model = None"
      ],
      "execution_count": 0,
      "outputs": []
    },
    {
      "cell_type": "code",
      "metadata": {
        "id": "J_7ziePVCeXE",
        "colab_type": "code",
        "colab": {
          "base_uri": "https://localhost:8080/",
          "height": 1000
        },
        "outputId": "01a0dbad-ec09-4e11-c68e-4ce98fb5020e"
      },
      "source": [
        "model = train.train(kg_train, 100, 100, 10, 10000, \"cuda\", n_epochs=100, n_heads=5, model=model)"
      ],
      "execution_count": 33,
      "outputs": [
        {
          "output_type": "stream",
          "text": [
            "epoch: 0, loss: 3.2811475140707835\n",
            "epoch: 1, loss: 3.274234243801662\n",
            "epoch: 2, loss: 3.2677190814699446\n",
            "epoch: 3, loss: 3.2630103656223843\n",
            "epoch: 4, loss: 3.2569844126701355\n",
            "epoch: 5, loss: 3.25292021887643\n",
            "epoch: 6, loss: 3.2468012741633823\n",
            "epoch: 7, loss: 3.2414286647524153\n",
            "epoch: 8, loss: 3.237714265074049\n",
            "epoch: 9, loss: 3.232444473675319\n",
            "epoch: 10, loss: 3.226143538951874\n",
            "epoch: 11, loss: 3.222060935837882\n",
            "epoch: 12, loss: 3.2132164921079363\n",
            "epoch: 13, loss: 3.2101731300354004\n",
            "epoch: 14, loss: 3.2064862166132246\n",
            "epoch: 15, loss: 3.2029910002435957\n",
            "epoch: 16, loss: 3.196321725845337\n",
            "epoch: 17, loss: 3.1928546173231944\n",
            "epoch: 18, loss: 3.1857304658208574\n",
            "epoch: 19, loss: 3.1833710755620683\n",
            "epoch: 20, loss: 3.1762703146253313\n",
            "epoch: 21, loss: 3.172108156340463\n",
            "epoch: 22, loss: 3.1652085525648936\n",
            "epoch: 23, loss: 3.160451556955065\n",
            "epoch: 24, loss: 3.1565007397106717\n",
            "epoch: 25, loss: 3.1509640216827393\n",
            "epoch: 26, loss: 3.1442932401384627\n",
            "epoch: 27, loss: 3.143266098839896\n",
            "epoch: 28, loss: 3.1373073714120046\n",
            "epoch: 29, loss: 3.1334306512560164\n",
            "epoch: 30, loss: 3.1285151413508823\n",
            "epoch: 31, loss: 3.12330230644771\n",
            "epoch: 32, loss: 3.118439018726349\n",
            "epoch: 33, loss: 3.1112373641559055\n",
            "epoch: 34, loss: 3.1108658654349193\n",
            "epoch: 35, loss: 3.105126440525055\n",
            "epoch: 36, loss: 3.098588934966496\n",
            "epoch: 37, loss: 3.097596900803702\n",
            "epoch: 38, loss: 3.0876741664750234\n",
            "epoch: 39, loss: 3.085507699421474\n",
            "epoch: 40, loss: 3.0838027000427246\n",
            "epoch: 41, loss: 3.0765817761421204\n",
            "epoch: 42, loss: 3.0730754137039185\n",
            "epoch: 43, loss: 3.0684442349842618\n",
            "epoch: 44, loss: 3.061862962586539\n",
            "epoch: 45, loss: 3.0571666104452953\n",
            "epoch: 46, loss: 3.05153203862054\n",
            "epoch: 47, loss: 3.050958948475974\n",
            "epoch: 48, loss: 3.045067702020918\n",
            "epoch: 49, loss: 3.0417018617902483\n",
            "epoch: 50, loss: 3.038900605269841\n",
            "epoch: 51, loss: 3.0352788993290494\n",
            "epoch: 52, loss: 3.028198846748897\n",
            "epoch: 53, loss: 3.0227510588509694\n",
            "epoch: 54, loss: 3.018383119787489\n",
            "epoch: 55, loss: 3.015667429992131\n",
            "epoch: 56, loss: 3.010738347257887\n",
            "epoch: 57, loss: 3.0090193493025645\n",
            "epoch: 58, loss: 3.004320962088449\n",
            "epoch: 59, loss: 2.9992026686668396\n",
            "epoch: 60, loss: 2.996355175971985\n",
            "epoch: 61, loss: 2.990511119365692\n",
            "epoch: 62, loss: 2.987607317311423\n",
            "epoch: 63, loss: 2.9838648779051646\n",
            "epoch: 64, loss: 2.9817116260528564\n",
            "epoch: 65, loss: 2.975308801446642\n",
            "epoch: 66, loss: 2.9707620484488353\n",
            "epoch: 67, loss: 2.967398532799312\n",
            "epoch: 68, loss: 2.962394194943564\n",
            "epoch: 69, loss: 2.9585351858820235\n",
            "epoch: 70, loss: 2.9560052922793796\n",
            "epoch: 71, loss: 2.9484470997537886\n",
            "epoch: 72, loss: 2.9476845605032787\n",
            "epoch: 73, loss: 2.941684441907065\n",
            "epoch: 74, loss: 2.9385648454938615\n",
            "epoch: 75, loss: 2.9363503456115723\n",
            "epoch: 76, loss: 2.9294185638427734\n",
            "epoch: 77, loss: 2.929131635597774\n",
            "epoch: 78, loss: 2.922305396624974\n",
            "epoch: 79, loss: 2.919721841812134\n",
            "epoch: 80, loss: 2.914692682879312\n",
            "epoch: 81, loss: 2.909063015665327\n",
            "epoch: 82, loss: 2.907865788255419\n",
            "epoch: 83, loss: 2.904895109789712\n",
            "epoch: 84, loss: 2.89751957995551\n",
            "epoch: 85, loss: 2.894659399986267\n",
            "epoch: 86, loss: 2.891992585999625\n",
            "epoch: 87, loss: 2.888162451131003\n",
            "epoch: 88, loss: 2.886876736368452\n",
            "epoch: 89, loss: 2.8809148158345903\n",
            "epoch: 90, loss: 2.8772665517670766\n",
            "epoch: 91, loss: 2.87198862859181\n",
            "epoch: 92, loss: 2.8685323681150163\n",
            "epoch: 93, loss: 2.8662777968815396\n",
            "epoch: 94, loss: 2.8612026487077986\n",
            "epoch: 95, loss: 2.858488040310996\n",
            "epoch: 96, loss: 2.8552743877683366\n",
            "epoch: 97, loss: 2.8519518119948253\n",
            "epoch: 98, loss: 2.848169948373522\n",
            "epoch: 99, loss: 2.8437034572873796\n"
          ],
          "name": "stdout"
        }
      ]
    },
    {
      "cell_type": "code",
      "metadata": {
        "id": "u2J98R_TCwoO",
        "colab_type": "code",
        "colab": {
          "base_uri": "https://localhost:8080/",
          "height": 52
        },
        "outputId": "4c516c81-692e-4ba7-a644-ff96ca209f87"
      },
      "source": [
        "evaluation.eval(kg_val, model, 100, 100)"
      ],
      "execution_count": 34,
      "outputs": [
        {
          "output_type": "stream",
          "text": [
            "mean rank: 5721.15\n",
            "hits@10: 0.06999999999999999\n"
          ],
          "name": "stdout"
        }
      ]
    },
    {
      "cell_type": "code",
      "metadata": {
        "id": "8cyrHf-zSFz4",
        "colab_type": "code",
        "colab": {
          "base_uri": "https://localhost:8080/",
          "height": 52
        },
        "outputId": "091f6bea-0a26-461a-eeba-a9f477578fac"
      },
      "source": [
        "n_samples = 1000\n",
        "dataloader = DataLoader(kg_val, 1, shuffle=True)                                                                                  \n",
        "data = [d for d in dataloader]                                                                                                    \n",
        "                                                                                                                                \n",
        "n = n_samples                                                                                                                     \n",
        "                                                                                                                                \n",
        "n_ent = kg_val.n_ent                                                                                                              \n",
        "model.eval()                                                                                                                      \n",
        "                                                                                                                                \n",
        "head_rank_mean, tail_rank_mean = [0] * 2                                                                                          \n",
        "head_hits_10, tail_hits_10 = [0] * 2                                                                                              \n",
        "\n",
        "ranks = []\n",
        "                                                                                                                                \n",
        "with torch.no_grad():                                                                                                             \n",
        "    for i in range(n_samples):                                                                                                    \n",
        "        triplets_h = generate_eval_triplets(data[i], \"head\", n_ent)                                                               \n",
        "        triplets_h, _ = negative_sampling(triplets_h, n_ent, 0)                                                                   \n",
        "        triplets_h = triplets_h.to(\"cuda\")                                                                                        \n",
        "        ee, re = model(triplets_h)                                                                                                \n",
        "                                                                                                                                \n",
        "        dst = ee[data[i][1]].squeeze()                                                                                            \n",
        "        rel = re[data[i][2]].squeeze()                                                                                            \n",
        "        dist = ee + (rel - dst).repeat(n_ent).view(-1, 100)                                                                       \n",
        "        head_preds = torch.topk(torch.norm(dist, dim=1), k=n_ent).indices.cpu().tolist()                                          \n",
        "        rank = head_preds.index(data[i][0])                                                                                       \n",
        "        head_rank_mean += rank                                                                                                    \n",
        "        if rank < 10:                                                                                                             \n",
        "            head_hits_10 += 1                                                                                                     \n",
        "                                                                                                                                \n",
        "        # # # # tail                                                                                                              \n",
        "        triplets_t = generate_eval_triplets(data[i], \"tail\", n_ent)                                                               \n",
        "        triplets_t, _ = negative_sampling(triplets_t, n_ent, 0)                                                                   \n",
        "        triplets_t = triplets_t.to(\"cuda\")                                                                                        \n",
        "        ee, re = model(triplets_t)                                                                                                \n",
        "                                                                                                                                \n",
        "        src = ee[data[i][0]].squeeze()                                                                                            \n",
        "        rel = re[data[i][2]].squeeze()                                                                                            \n",
        "        dist = (src + rel).repeat(n_ent).view(-1, 100) - ee                                                                       \n",
        "        tail_preds = torch.topk(torch.norm(dist, dim=1), k=n_ent).indices.cpu().tolist()                                          \n",
        "        rank = tail_preds.index(data[i][1])                                                                                       \n",
        "        tail_rank_mean += rank                                                                                                    \n",
        "        if rank < 1000:                                                                                                             \n",
        "            tail_hits_10 += 1                                                                                                     \n",
        "        \n",
        "        ranks.append(rank)\n",
        "                                                                                                                                \n",
        "    # head_rank_mean /= n                                                                                                           \n",
        "    tail_rank_mean /= n                                                                                                           \n",
        "    # head_hits_10 /= n                                                                                                             \n",
        "    tail_hits_10                                                                                                            \n",
        "    # mean_rank = (head_rank_mean + tail_rank_mean) / 2                                                                             \n",
        "    # hits_10 = (head_hits_10 + tail_hits_10) / 2                                                                                   \n",
        "                                                                                                                                \n",
        "#  print(f\"Mean Rank: {mean_rank}\")                                                                                               \n",
        "#  print(f\"Hits@10: {hits0}\")                                                                                                     \n",
        "# print(\"mean rank: {}\".format(mean_rank))                                                                                          \n",
        "# print(\"hits@10: {}\".format(hits_10))  \n",
        "print(tail_rank_mean)\n",
        "print(tail_hits_10)"
      ],
      "execution_count": 35,
      "outputs": [
        {
          "output_type": "stream",
          "text": [
            "4370.015\n",
            "359\n"
          ],
          "name": "stdout"
        }
      ]
    },
    {
      "cell_type": "code",
      "metadata": {
        "id": "Lox5WXBLSru_",
        "colab_type": "code",
        "colab": {
          "base_uri": "https://localhost:8080/",
          "height": 282
        },
        "outputId": "650e4e55-6923-403e-fc79-1e1dfc9f1e4e"
      },
      "source": [
        "plt.plot(np.arange(1000), sorted(ranks))"
      ],
      "execution_count": 36,
      "outputs": [
        {
          "output_type": "execute_result",
          "data": {
            "text/plain": [
              "[<matplotlib.lines.Line2D at 0x7f3f8b7f40b8>]"
            ]
          },
          "metadata": {
            "tags": []
          },
          "execution_count": 36
        },
        {
          "output_type": "display_data",
          "data": {
            "image/png": "[encoded data removed]",
            "text/plain": [
              "<Figure size 432x288 with 1 Axes>"
            ]
          },
          "metadata": {
            "tags": [],
            "needs_background": "light"
          }
        }
      ]
    },
    {
      "cell_type": "code",
      "metadata": {
        "id": "ueWsAPXgsrCx",
        "colab_type": "code",
        "colab": {}
      },
      "source": [
        "import numpy as np"
      ],
      "execution_count": 0,
      "outputs": []
    },
    {
      "cell_type": "code",
      "metadata": {
        "id": "I43n-N1Ytmtq",
        "colab_type": "code",
        "colab": {}
      },
      "source": [
        ""
      ],
      "execution_count": 0,
      "outputs": []
    }
  ]
}